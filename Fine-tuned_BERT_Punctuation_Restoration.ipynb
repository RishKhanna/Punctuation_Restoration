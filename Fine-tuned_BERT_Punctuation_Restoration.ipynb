{
 "cells": [
  {
   "cell_type": "code",
   "execution_count": 28,
   "metadata": {
    "colab": {
     "base_uri": "https://localhost:8080/"
    },
    "id": "5w7Jm_PdU2I1",
    "outputId": "6729ac9a-76e7-4700-a9c9-05ca2595646e",
    "tags": []
   },
   "outputs": [
    {
     "name": "stderr",
     "output_type": "stream",
     "text": [
      "[nltk_data] Downloading package punkt to /home2/rishabhk/nltk_data...\n",
      "[nltk_data]   Package punkt is already up-to-date!\n",
      "[nltk_data] Downloading package wordnet to\n",
      "[nltk_data]     /home2/rishabhk/nltk_data...\n",
      "[nltk_data]   Package wordnet is already up-to-date!\n"
     ]
    }
   ],
   "source": [
    "# from google.colab import files\n",
    "from tqdm import tqdm\n",
    "import matplotlib.pyplot as plt\n",
    "import pandas as pd\n",
    "import transformers\n",
    "import random, re\n",
    "# nltk\n",
    "import nltk\n",
    "from nltk.stem import WordNetLemmatizer\n",
    "from nltk.tokenize import word_tokenize\n",
    "nltk.download('punkt')\n",
    "nltk.download('wordnet')\n",
    "# pytorch\n",
    "import torch\n",
    "import torch.nn as nn\n",
    "import torch.nn.functional as F\n",
    "# from focal_loss.focal_loss import FocalLoss\n",
    "from torch.utils.data import Dataset, DataLoader"
   ]
  },
  {
   "cell_type": "code",
   "execution_count": 2,
   "metadata": {
    "colab": {
     "base_uri": "https://localhost:8080/",
     "height": 197
    },
    "id": "pNB49nprJTQP",
    "outputId": "48c685a4-c5d9-451e-9e99-d5eed5cf4d75",
    "tags": []
   },
   "outputs": [],
   "source": [
    "# files.upload()\n",
    "# !mkdir /root/.kaggle/\n",
    "# !mv /content/kaggle.json /root/.kaggle/kaggle.json\n",
    "# !kaggle datasets download -d thedevastator/nlp-mental-health-conversations\n",
    "# !rm /root/.kaggle/kaggle.json\n",
    "# !unzip /content/nlp-mental-health-conversations.zip\n",
    "# !rm /content/nlp-mental-health-conversations.zip"
   ]
  },
  {
   "cell_type": "code",
   "execution_count": 3,
   "metadata": {
    "colab": {
     "base_uri": "https://localhost:8080/"
    },
    "id": "6IFxwHjwjx_C",
    "outputId": "42a7dd9d-8722-46b1-9b81-1447f525e0b3",
    "tags": []
   },
   "outputs": [
    {
     "name": "stdout",
     "output_type": "stream",
     "text": [
      "Number of punctuations: 14\n"
     ]
    }
   ],
   "source": [
    "PUNCTUATIONS = \". ? ' \\\" - [ ] { } ( ) ... : ;\"\n",
    "PUNCTUATIONS = PUNCTUATIONS.split(\" \")\n",
    "print(\"Number of punctuations:\", len(PUNCTUATIONS))"
   ]
  },
  {
   "cell_type": "code",
   "execution_count": 4,
   "metadata": {
    "id": "6U6axh37NJ9_",
    "tags": []
   },
   "outputs": [],
   "source": [
    "# all_sents = pd.read_csv(\"/content/train.csv\")[\"Response\"].tolist()[:2]\n",
    "all_sents = pd.read_csv(\"./train.csv\")[\"Response\"].tolist()[:300]"
   ]
  },
  {
   "cell_type": "code",
   "execution_count": 5,
   "metadata": {
    "id": "NJf6BjY_V2Ds",
    "tags": []
   },
   "outputs": [],
   "source": [
    "def remove_punc(sent_in):\n",
    "  fin = \"\"\n",
    "  for i in sent_in:\n",
    "    if (i.isalnum()) or (i in PUNCTUATIONS+[\"<\", \">\", \" \"]):\n",
    "      fin += i\n",
    "  return fin\n",
    "def clean_text(all_sent):\n",
    "  \"\"\"\n",
    "    This functions cleans the given text by performing the following changes\n",
    "    - remove Nan\n",
    "    - replace \"\\xa0\" with \" \"\n",
    "    - replace \"\\n\", \"\\r\", '\\t\" with \" \"\n",
    "    - replace multiple spaces with single space\n",
    "    - lowercase\n",
    "    - tokenize the sentences\n",
    "    - <URL> for urls\n",
    "    - <NUM> for numbers\n",
    "    - <PHNUM> for phone numbers [NUM-NUM-NUM-NUM], [NUM-NUM-NUM]\n",
    "    - <DATE> for dates\n",
    "    - Replace 3+ consecutive periods with an ellipse.\n",
    "    - Ensure all punctutions have a space before and after it\n",
    "    - Remove all other special charectors\n",
    "  \"\"\"\n",
    "  all_sent = [sent for sent in all_sent if type(sent)==type(\"string\")]  # remove nan\n",
    "  fin = []\n",
    "  for sent in all_sent:\n",
    "    fin += nltk.tokenize.sent_tokenize(sent.replace('\\xa0', ' ').replace('\\n', ' ').replace('\\r', ' ').replace('\\t', ' ').lower())\n",
    "  fin = [re.sub(r'\\d+', \"<NUM>\", sent) for sent in fin]  # Numbers\n",
    "  # Ph. num\n",
    "  fin = [sent.replace(\"<NUM>-<NUM>-<NUM>-<NUM>\", \"<PHNUM>\") for sent in fin]\n",
    "  fin = [sent.replace(\"<NUM>-<NUM>-<NUM>\", \"<PHNUM>\") for sent in fin]\n",
    "  # Dates\n",
    "  fin = [sent.replace(\"<NUM>/<NUM>/<NUM>\", \"<DATE>\") for sent in fin]\n",
    "  fin = [re.sub(r'https?://\\S+|www\\.\\S+', \"<URL>\", sent) for sent in fin]  # URLs\n",
    "  fin = [re.sub(r'\\.{4,}', '...', sent) for sent in fin]  # Multiple periods\n",
    "  # space around punctuations\n",
    "  for pun in PUNCTUATIONS:\n",
    "    fin = [sent.replace(pun, \" \" + pun + \" \") for sent in fin]\n",
    "  fin = [re.sub(r' +', \" \", sent) for sent in fin]  # Remove multiple Spaces\n",
    "  # remove other special charectors\n",
    "  fin = [remove_punc(sent) for sent in fin]\n",
    "  return fin"
   ]
  },
  {
   "cell_type": "code",
   "execution_count": 6,
   "metadata": {
    "id": "iVJbpNoEy1aD",
    "tags": []
   },
   "outputs": [],
   "source": [
    "def lemmatize_text(all_sent):\n",
    "    fin = []\n",
    "    lemmatizer = WordNetLemmatizer()\n",
    "    for sent in all_sent:\n",
    "      tokens = sent.split(\" \")\n",
    "      lemmatized_tokens = [lemmatizer.lemmatize(token) for token in tokens]\n",
    "      lemmatized_tokens  = [i for i in lemmatized_tokens if len(i)]\n",
    "      fin += [lemmatized_tokens]\n",
    "    fin = [i for i in fin if len(i)]\n",
    "    return fin"
   ]
  },
  {
   "cell_type": "markdown",
   "metadata": {
    "id": "T-r2t5Aae21p"
   },
   "source": [
    "# Split the sentences"
   ]
  },
  {
   "cell_type": "code",
   "execution_count": 7,
   "metadata": {
    "id": "yFm_AX1FfkSi",
    "tags": []
   },
   "outputs": [],
   "source": [
    "# fraction of dataset to alot for each split\n",
    "TRAIN, VAL, TEST = 0.7, 0.1, 0.2"
   ]
  },
  {
   "cell_type": "code",
   "execution_count": 8,
   "metadata": {
    "id": "Dht7uQt_y_jf",
    "tags": []
   },
   "outputs": [],
   "source": [
    "all_sents = clean_text(all_sents)\n",
    "all_sents = lemmatize_text(all_sents)\n",
    "random.shuffle(all_sents)\n",
    "sent_len = len(all_sents)\n",
    "DS_train = all_sents[0:int(sent_len*TRAIN)]\n",
    "DS_val = all_sents[int(sent_len*TRAIN): int(sent_len*TRAIN)+int(sent_len*VAL)]\n",
    "DS_test = all_sents[int(sent_len*TRAIN)+int(sent_len*VAL): int(sent_len*TRAIN)+int(sent_len*VAL)+int(sent_len*TEST)]"
   ]
  },
  {
   "cell_type": "markdown",
   "metadata": {
    "id": "8wGSlZ1shXl-"
   },
   "source": [
    "# Generate all datasets"
   ]
  },
  {
   "cell_type": "code",
   "execution_count": 9,
   "metadata": {
    "id": "_MaiOHSdcSzY",
    "tags": []
   },
   "outputs": [],
   "source": [
    "def get_Xy(DS):\n",
    "  fin_X, fin_y = [], []\n",
    "  for sent in DS:\n",
    "    for word in range(1,len(sent)):\n",
    "      fin_X.append(\" \".join(sent[:word]))\n",
    "      if word in PUNCTUATIONS:\n",
    "        fin_y.append(word)\n",
    "      else:\n",
    "        fin_y.append(\"<NULL>\")\n",
    "  return fin_X, fin_y\n",
    "###########################################################################################################################\n",
    "def OHE(y):\n",
    "  global punc2idx\n",
    "  fin_y = []\n",
    "  for pun in y:\n",
    "    fin_y.append(punc2idx[pun])\n",
    "  return fin_y\n",
    "###########################################################################################################################\n",
    "def BERT_encoding(X_in):\n",
    "  tokenizer = transformers.BertTokenizer.from_pretrained('bert-base-uncased')\n",
    "  fin_X = tokenizer(X_in,padding=True, return_tensors='pt')[\"input_ids\"]\n",
    "  return fin_X\n",
    "###########################################################################################################################\n",
    "def proc_data(DS):\n",
    "  X_sent, y_sent = get_Xy(DS)\n",
    "  X, y = BERT_encoding(X_sent), torch.tensor(OHE(y_sent))\n",
    "  return X, y"
   ]
  },
  {
   "cell_type": "code",
   "execution_count": 10,
   "metadata": {
    "id": "3HFitAPCgLiq",
    "tags": []
   },
   "outputs": [],
   "source": [
    "idx2punc = PUNCTUATIONS + [\"<NULL>\"]\n",
    "punc2idx = {}\n",
    "for i in idx2punc:\n",
    "  punc2idx[i] = len(punc2idx)"
   ]
  },
  {
   "cell_type": "code",
   "execution_count": 11,
   "metadata": {
    "id": "djdOka5mhz-e",
    "tags": []
   },
   "outputs": [],
   "source": [
    "trainX, trainy = proc_data(DS_train)\n",
    "valX, valy = proc_data(DS_val)\n",
    "testX, testy = proc_data(DS_test)"
   ]
  },
  {
   "cell_type": "markdown",
   "metadata": {
    "id": "kbx5LixBoZ1p"
   },
   "source": [
    "# Model Architecture"
   ]
  },
  {
   "cell_type": "code",
   "execution_count": 12,
   "metadata": {
    "id": "TGOX-naGnNMx",
    "tags": []
   },
   "outputs": [],
   "source": [
    "class CustomBERTClassifier(nn.Module):\n",
    "    def __init__(self, lstm_hidden_size, num_classes):\n",
    "      super(CustomBERTClassifier, self).__init__()\n",
    "      bert_hidden_size = 768\n",
    "      self.bert_model = transformers.BertModel.from_pretrained('bert-base-uncased')\n",
    "      self.lstm = nn.LSTM(bert_hidden_size, lstm_hidden_size, batch_first=True)\n",
    "      self.fc1 = nn.Linear(lstm_hidden_size,num_classes)\n",
    "\n",
    "    def forward(self, x):\n",
    "        x = self.bert_model(x).last_hidden_state\n",
    "        _, (x, _) = self.lstm(x)\n",
    "        x = x.squeeze(0)\n",
    "        x = self.fc1(x)\n",
    "        x = F.softmax(x, dim=-1)\n",
    "        return x"
   ]
  },
  {
   "cell_type": "markdown",
   "metadata": {
    "id": "8ie4ZagZ7ijL"
   },
   "source": [
    "## Training"
   ]
  },
  {
   "cell_type": "code",
   "execution_count": 13,
   "metadata": {
    "id": "sOLwiQBe7iA3",
    "tags": []
   },
   "outputs": [],
   "source": [
    "class CustomDataset(Dataset):\n",
    "    def __init__(self, X, y):\n",
    "        self.X = X\n",
    "        self.y = y\n",
    "\n",
    "    def __len__(self):\n",
    "        return len(self.X)\n",
    "\n",
    "    def __getitem__(self, index):\n",
    "        sample = {'X': self.X[index], 'y': self.y[index]}\n",
    "        return sample\n",
    "\n",
    "# Create a data loader\n",
    "batch_size = 40\n",
    "train_loader = DataLoader(dataset=CustomDataset(trainX, trainy), batch_size=batch_size)\n",
    "val_loader = DataLoader(dataset=CustomDataset(valX, valy), batch_size=batch_size)\n",
    "test_loader = DataLoader(dataset=CustomDataset(testX, testy), batch_size=batch_size)"
   ]
  },
  {
   "cell_type": "code",
   "execution_count": 14,
   "metadata": {
    "id": "-SLnaZMc78fN",
    "tags": []
   },
   "outputs": [],
   "source": [
    "# Set random seed for reproducibility\n",
    "torch.manual_seed(42)\n",
    "\n",
    "# Instance of loss function\n",
    "# criterion = FocalLoss(gamma=0.7)\n",
    "criterion = nn.CrossEntropyLoss()\n",
    "\n",
    "#Check GPU/CPU\n",
    "device = torch.device(\"cuda\" if torch.cuda.is_available() else \"cpu\")\n",
    "# device = torch.device(\"cpu\")\n",
    "\n",
    "# Instance to model\n",
    "model = CustomBERTClassifier(512, 15).to(device)\n",
    "## Freeze BERT layers\n",
    "model.bert_model.requires_grad_= False\n",
    "\n",
    "# Instance of optimizer\n",
    "optimizer = torch.optim.Adam(model.parameters(), lr=0.001)"
   ]
  },
  {
   "cell_type": "code",
   "execution_count": 15,
   "metadata": {},
   "outputs": [],
   "source": [
    "# Tracking loss\n",
    "train_loss_track, val_loss_track = [], []"
   ]
  },
  {
   "cell_type": "code",
   "execution_count": 16,
   "metadata": {
    "colab": {
     "base_uri": "https://localhost:8080/"
    },
    "id": "eXfD9Hw69BZL",
    "outputId": "ae60819a-dea8-4392-deb0-7db7bc0f9e36",
    "tags": []
   },
   "outputs": [
    {
     "name": "stderr",
     "output_type": "stream",
     "text": [
      "  0%|                                                   | 0/976 [00:00<?, ?it/s]We strongly recommend passing in an `attention_mask` since your input_ids may be padded. See https://huggingface.co/docs/transformers/troubleshooting#incorrect-output-when-padding-tokens-arent-masked.\n",
      "100%|█████████████████████████████████████████| 976/976 [13:43<00:00,  1.18it/s]\n"
     ]
    },
    {
     "name": "stdout",
     "output_type": "stream",
     "text": [
      "Epoch 1/7, Training Loss: 1.8165035247802734\n",
      "Epoch 1/7, Validation Loss: 1.8165044775445953\n"
     ]
    },
    {
     "name": "stderr",
     "output_type": "stream",
     "text": [
      "100%|█████████████████████████████████████████| 976/976 [13:43<00:00,  1.18it/s]\n"
     ]
    },
    {
     "name": "stdout",
     "output_type": "stream",
     "text": [
      "Epoch 2/7, Training Loss: 1.8165032863616943\n",
      "Epoch 2/7, Validation Loss: 1.816502807704547\n"
     ]
    },
    {
     "name": "stderr",
     "output_type": "stream",
     "text": [
      "100%|█████████████████████████████████████████| 976/976 [13:41<00:00,  1.19it/s]\n"
     ]
    },
    {
     "name": "stdout",
     "output_type": "stream",
     "text": [
      "Epoch 3/7, Training Loss: 1.8165031671524048\n",
      "Epoch 3/7, Validation Loss: 1.816502807704547\n"
     ]
    },
    {
     "name": "stderr",
     "output_type": "stream",
     "text": [
      "100%|█████████████████████████████████████████| 976/976 [13:42<00:00,  1.19it/s]\n"
     ]
    },
    {
     "name": "stdout",
     "output_type": "stream",
     "text": [
      "Epoch 4/7, Training Loss: 1.8165031671524048\n",
      "Epoch 4/7, Validation Loss: 1.816502807704547\n"
     ]
    },
    {
     "name": "stderr",
     "output_type": "stream",
     "text": [
      "100%|█████████████████████████████████████████| 976/976 [13:44<00:00,  1.18it/s]\n"
     ]
    },
    {
     "name": "stdout",
     "output_type": "stream",
     "text": [
      "Epoch 5/7, Training Loss: 1.8165029287338257\n",
      "Epoch 5/7, Validation Loss: 1.816502571105957\n"
     ]
    },
    {
     "name": "stderr",
     "output_type": "stream",
     "text": [
      "100%|█████████████████████████████████████████| 976/976 [13:44<00:00,  1.18it/s]\n"
     ]
    },
    {
     "name": "stdout",
     "output_type": "stream",
     "text": [
      "Epoch 6/7, Training Loss: 1.8165029287338257\n",
      "Epoch 6/7, Validation Loss: 1.816502571105957\n"
     ]
    },
    {
     "name": "stderr",
     "output_type": "stream",
     "text": [
      "100%|█████████████████████████████████████████| 976/976 [13:44<00:00,  1.18it/s]\n"
     ]
    },
    {
     "name": "stdout",
     "output_type": "stream",
     "text": [
      "Epoch 7/7, Training Loss: 1.8165029287338257\n",
      "Epoch 7/7, Validation Loss: 1.816502571105957\n"
     ]
    }
   ],
   "source": [
    "# Training loop\n",
    "num_epochs = 7\n",
    "\n",
    "for epoch in range(num_epochs):\n",
    "    model.train()  # Set the model to training mode\n",
    "\n",
    "    for train_batch in tqdm(train_loader):\n",
    "        inputs, targets = train_batch[\"X\"].to(device), train_batch[\"y\"].to(device)\n",
    "        # Forward pass\n",
    "        outputs = model(inputs)\n",
    "\n",
    "        # Calculate the loss\n",
    "        loss = criterion(outputs, targets)\n",
    "\n",
    "        # Backward pass and optimization\n",
    "        optimizer.zero_grad()\n",
    "        loss.backward()\n",
    "        optimizer.step()\n",
    "\n",
    "    # Print the training loss for each epoch\n",
    "    print(f\"Epoch {epoch + 1}/{num_epochs}, Training Loss: {loss.item()}\")\n",
    "    train_loss_track.append(loss.item())\n",
    "\n",
    "    # Validation\n",
    "    model.eval()  # Set the model to evaluation mode\n",
    "\n",
    "    with torch.no_grad():\n",
    "        val_loss = 0.0\n",
    "        num_val_batches = 0\n",
    "        for val_batch in val_loader:\n",
    "            val_inputs, val_targets = val_batch[\"X\"].to(device), val_batch[\"y\"].to(device)\n",
    "            val_outputs = model(val_inputs)\n",
    "            val_loss += criterion(val_outputs, val_targets).item()\n",
    "            num_val_batches += 1\n",
    "\n",
    "        average_val_loss = val_loss / num_val_batches\n",
    "        val_loss_track.append(average_val_loss)\n",
    "        print(f\"Epoch {epoch + 1}/{num_epochs}, Validation Loss: {average_val_loss}\")"
   ]
  },
  {
   "cell_type": "code",
   "execution_count": 75,
   "metadata": {
    "tags": []
   },
   "outputs": [
    {
     "data": {
      "image/png": "[encoded data removed]",
      "text/plain": [
       "<Figure size 640x480 with 1 Axes>"
      ]
     },
     "metadata": {},
     "output_type": "display_data"
    }
   ],
   "source": [
    "plt.plot(list(range(1,8)), train_loss_track, \"o-\", label=\"train loss\")\n",
    "plt.plot(list(range(1,8)), val_loss_track, \"o-\", label=\"val loss\")\n",
    "plt.legend()\n",
    "plt.title(\"Evolution of loss during training\")\n",
    "plt.xlabel(\"# Epochs. -->\")\n",
    "plt.ylabel(\"Cross-entropy loss -->\")\n",
    "plt.show()"
   ]
  },
  {
   "cell_type": "markdown",
   "metadata": {},
   "source": [
    "## Save Model"
   ]
  },
  {
   "cell_type": "code",
   "execution_count": 42,
   "metadata": {
    "tags": []
   },
   "outputs": [],
   "source": [
    "torch.save(model.state_dict(), '/scratch/Rish/BERT_model.pth')"
   ]
  },
  {
   "cell_type": "markdown",
   "metadata": {},
   "source": [
    "## Testing"
   ]
  },
  {
   "cell_type": "code",
   "execution_count": null,
   "metadata": {
    "tags": []
   },
   "outputs": [],
   "source": [
    "model.eval()"
   ]
  },
  {
   "cell_type": "code",
   "execution_count": 63,
   "metadata": {
    "tags": []
   },
   "outputs": [],
   "source": [
    "def restore(sent_in):\n",
    "    sent_in = sent_in.split(\" \")\n",
    "    fin = \"\"\n",
    "    for word in sent_in:\n",
    "        fin += word\n",
    "        pred = torch.argmax(model(BERT_encoding(fin).to(device)))\n",
    "        while pred != 14:\n",
    "            fin += idx2punc[pred] + \" \"\n",
    "            pred = torch.argmax(model.predict(fin))\n",
    "        fin += \" \"\n",
    "    return fin"
   ]
  },
  {
   "cell_type": "code",
   "execution_count": 64,
   "metadata": {
    "tags": []
   },
   "outputs": [],
   "source": [
    "def remove_all_punc(s_in):\n",
    "  fin = \"\"\n",
    "  for i in s_in:\n",
    "    if i.isalpha() or i==\" \":\n",
    "      fin += i\n",
    "  return fin"
   ]
  },
  {
   "cell_type": "code",
   "execution_count": 71,
   "metadata": {
    "tags": []
   },
   "outputs": [
    {
     "name": "stderr",
     "output_type": "stream",
     "text": [
      "\n",
      "\n",
      "100%|███████████████████████████████████████| 476/476 [1:03:59<00:00,  8.07s/it]\u001b[A\u001b[A\n"
     ]
    }
   ],
   "source": [
    "orig_punc = [ \" \".join(i) for i in DS_test ]\n",
    "wo_punc = [ remove_all_punc(i) for i in orig_punc]\n",
    "restored_punc = [restore(i) for i in tqdm(wo_punc)]"
   ]
  },
  {
   "cell_type": "code",
   "execution_count": 72,
   "metadata": {
    "tags": []
   },
   "outputs": [],
   "source": [
    "def calculate_jaccard_similarity(original_sentence, restored_sentence):\n",
    "    original_tokens = set(word_tokenize(original_sentence))\n",
    "    restored_tokens = set(word_tokenize(restored_sentence))\n",
    "\n",
    "    # Calculate Jaccard similarity\n",
    "    intersection = len(original_tokens.intersection(restored_tokens))\n",
    "    union = len(original_tokens.union(restored_tokens))\n",
    "\n",
    "    jaccard_similarity = intersection / union if union != 0 else 0\n",
    "    return jaccard_similarity"
   ]
  },
  {
   "cell_type": "code",
   "execution_count": 73,
   "metadata": {
    "tags": []
   },
   "outputs": [],
   "source": [
    "fin_score = sum( [calculate_jaccard_similarity(orig, restored) for orig, restored in zip(orig_punc, restored_punc)] ) / len(all_sents)"
   ]
  },
  {
   "cell_type": "code",
   "execution_count": 74,
   "metadata": {
    "tags": []
   },
   "outputs": [
    {
     "name": "stdout",
     "output_type": "stream",
     "text": [
      "Final score for Fine-tuned BERT: 0.18189592922375233\n"
     ]
    }
   ],
   "source": [
    "print(\"Final score for Fine-tuned BERT:\", fin_score)"
   ]
  },
  {
   "cell_type": "code",
   "execution_count": null,
   "metadata": {},
   "outputs": [],
   "source": []
  }
 ],
 "metadata": {
  "colab": {
   "provenance": []
  },
  "kernelspec": {
   "display_name": "Python 3 (ipykernel)",
   "language": "python",
   "name": "python3"
  },
  "language_info": {
   "codemirror_mode": {
    "name": "ipython",
    "version": 3
   },
   "file_extension": ".py",
   "mimetype": "text/x-python",
   "name": "python",
   "nbconvert_exporter": "python",
   "pygments_lexer": "ipython3",
   "version": "3.9.16"
  }
 },
 "nbformat": 4,
 "nbformat_minor": 4
}
