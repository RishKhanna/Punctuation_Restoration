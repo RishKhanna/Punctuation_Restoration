{
  "nbformat": 4,
  "nbformat_minor": 0,
  "metadata": {
    "colab": {
      "provenance": []
    },
    "kernelspec": {
      "name": "python3",
      "display_name": "Python 3"
    },
    "language_info": {
      "name": "python"
    }
  },
  "cells": [
    {
      "cell_type": "code",
      "source": [
        "# !apt-get update && apt-get install -y libsndfile1 ffmpeg\n",
        "# !pip install Cython\n",
        "# !pip install nemo_toolkit['all']"
      ],
      "metadata": {
        "id": "bo7c2q4_LbKA"
      },
      "execution_count": 30,
      "outputs": []
    },
    {
      "cell_type": "code",
      "source": [
        "from google.colab import files\n",
        "import pandas as pd\n",
        "import random, re\n",
        "# nltk\n",
        "import nltk\n",
        "from nltk.stem import WordNetLemmatizer\n",
        "from nltk.tokenize import word_tokenize\n",
        "from nemo.collections.nlp.models import PunctuationCapitalizationModel\n",
        "nltk.download('punkt')\n",
        "nltk.download('wordnet')"
      ],
      "metadata": {
        "colab": {
          "base_uri": "https://localhost:8080/"
        },
        "id": "_2cAFOScN4Fo",
        "outputId": "4d006a98-2237-4a99-b6f5-f06fe64d8e2d"
      },
      "execution_count": 31,
      "outputs": [
        {
          "output_type": "stream",
          "name": "stderr",
          "text": [
            "[nltk_data] Downloading package punkt to /root/nltk_data...\n",
            "[nltk_data]   Package punkt is already up-to-date!\n",
            "[nltk_data] Downloading package wordnet to /root/nltk_data...\n",
            "[nltk_data]   Package wordnet is already up-to-date!\n"
          ]
        },
        {
          "output_type": "execute_result",
          "data": {
            "text/plain": [
              "True"
            ]
          },
          "metadata": {},
          "execution_count": 31
        }
      ]
    },
    {
      "cell_type": "code",
      "source": [
        "files.upload()\n",
        "!mkdir /root/.kaggle/\n",
        "!mv /content/kaggle.json /root/.kaggle/kaggle.json\n",
        "!kaggle datasets download -d thedevastator/nlp-mental-health-conversations\n",
        "!rm /root/.kaggle/kaggle.json\n",
        "!unzip /content/nlp-mental-health-conversations.zip\n",
        "!rm /content/nlp-mental-health-conversations.zip"
      ],
      "metadata": {
        "colab": {
          "base_uri": "https://localhost:8080/",
          "height": 212
        },
        "id": "OSpxzhPNNq7t",
        "outputId": "48ec612f-73e4-4c74-db3d-e9f54b201e34"
      },
      "execution_count": 19,
      "outputs": [
        {
          "output_type": "display_data",
          "data": {
            "text/plain": [
              "<IPython.core.display.HTML object>"
            ],
            "text/html": [
              "\n",
              "     <input type=\"file\" id=\"files-acd2b026-f681-4bf3-8633-3da0c938507f\" name=\"files[]\" multiple disabled\n",
              "        style=\"border:none\" />\n",
              "     <output id=\"result-acd2b026-f681-4bf3-8633-3da0c938507f\">\n",
              "      Upload widget is only available when the cell has been executed in the\n",
              "      current browser session. Please rerun this cell to enable.\n",
              "      </output>\n",
              "      <script>// Copyright 2017 Google LLC\n",
              "//\n",
              "// Licensed under the Apache License, Version 2.0 (the \"License\");\n",
              "// you may not use this file except in compliance with the License.\n",
              "// You may obtain a copy of the License at\n",
              "//\n",
              "//      http://www.apache.org/licenses/LICENSE-2.0\n",
              "//\n",
              "// Unless required by applicable law or agreed to in writing, software\n",
              "// distributed under the License is distributed on an \"AS IS\" BASIS,\n",
              "// WITHOUT WARRANTIES OR CONDITIONS OF ANY KIND, either express or implied.\n",
              "// See the License for the specific language governing permissions and\n",
              "// limitations under the License.\n",
              "\n",
              "/**\n",
              " * @fileoverview Helpers for google.colab Python module.\n",
              " */\n",
              "(function(scope) {\n",
              "function span(text, styleAttributes = {}) {\n",
              "  const element = document.createElement('span');\n",
              "  element.textContent = text;\n",
              "  for (const key of Object.keys(styleAttributes)) {\n",
              "    element.style[key] = styleAttributes[key];\n",
              "  }\n",
              "  return element;\n",
              "}\n",
              "\n",
              "// Max number of bytes which will be uploaded at a time.\n",
              "const MAX_PAYLOAD_SIZE = 100 * 1024;\n",
              "\n",
              "function _uploadFiles(inputId, outputId) {\n",
              "  const steps = uploadFilesStep(inputId, outputId);\n",
              "  const outputElement = document.getElementById(outputId);\n",
              "  // Cache steps on the outputElement to make it available for the next call\n",
              "  // to uploadFilesContinue from Python.\n",
              "  outputElement.steps = steps;\n",
              "\n",
              "  return _uploadFilesContinue(outputId);\n",
              "}\n",
              "\n",
              "// This is roughly an async generator (not supported in the browser yet),\n",
              "// where there are multiple asynchronous steps and the Python side is going\n",
              "// to poll for completion of each step.\n",
              "// This uses a Promise to block the python side on completion of each step,\n",
              "// then passes the result of the previous step as the input to the next step.\n",
              "function _uploadFilesContinue(outputId) {\n",
              "  const outputElement = document.getElementById(outputId);\n",
              "  const steps = outputElement.steps;\n",
              "\n",
              "  const next = steps.next(outputElement.lastPromiseValue);\n",
              "  return Promise.resolve(next.value.promise).then((value) => {\n",
              "    // Cache the last promise value to make it available to the next\n",
              "    // step of the generator.\n",
              "    outputElement.lastPromiseValue = value;\n",
              "    return next.value.response;\n",
              "  });\n",
              "}\n",
              "\n",
              "/**\n",
              " * Generator function which is called between each async step of the upload\n",
              " * process.\n",
              " * @param {string} inputId Element ID of the input file picker element.\n",
              " * @param {string} outputId Element ID of the output display.\n",
              " * @return {!Iterable<!Object>} Iterable of next steps.\n",
              " */\n",
              "function* uploadFilesStep(inputId, outputId) {\n",
              "  const inputElement = document.getElementById(inputId);\n",
              "  inputElement.disabled = false;\n",
              "\n",
              "  const outputElement = document.getElementById(outputId);\n",
              "  outputElement.innerHTML = '';\n",
              "\n",
              "  const pickedPromise = new Promise((resolve) => {\n",
              "    inputElement.addEventListener('change', (e) => {\n",
              "      resolve(e.target.files);\n",
              "    });\n",
              "  });\n",
              "\n",
              "  const cancel = document.createElement('button');\n",
              "  inputElement.parentElement.appendChild(cancel);\n",
              "  cancel.textContent = 'Cancel upload';\n",
              "  const cancelPromise = new Promise((resolve) => {\n",
              "    cancel.onclick = () => {\n",
              "      resolve(null);\n",
              "    };\n",
              "  });\n",
              "\n",
              "  // Wait for the user to pick the files.\n",
              "  const files = yield {\n",
              "    promise: Promise.race([pickedPromise, cancelPromise]),\n",
              "    response: {\n",
              "      action: 'starting',\n",
              "    }\n",
              "  };\n",
              "\n",
              "  cancel.remove();\n",
              "\n",
              "  // Disable the input element since further picks are not allowed.\n",
              "  inputElement.disabled = true;\n",
              "\n",
              "  if (!files) {\n",
              "    return {\n",
              "      response: {\n",
              "        action: 'complete',\n",
              "      }\n",
              "    };\n",
              "  }\n",
              "\n",
              "  for (const file of files) {\n",
              "    const li = document.createElement('li');\n",
              "    li.append(span(file.name, {fontWeight: 'bold'}));\n",
              "    li.append(span(\n",
              "        `(${file.type || 'n/a'}) - ${file.size} bytes, ` +\n",
              "        `last modified: ${\n",
              "            file.lastModifiedDate ? file.lastModifiedDate.toLocaleDateString() :\n",
              "                                    'n/a'} - `));\n",
              "    const percent = span('0% done');\n",
              "    li.appendChild(percent);\n",
              "\n",
              "    outputElement.appendChild(li);\n",
              "\n",
              "    const fileDataPromise = new Promise((resolve) => {\n",
              "      const reader = new FileReader();\n",
              "      reader.onload = (e) => {\n",
              "        resolve(e.target.result);\n",
              "      };\n",
              "      reader.readAsArrayBuffer(file);\n",
              "    });\n",
              "    // Wait for the data to be ready.\n",
              "    let fileData = yield {\n",
              "      promise: fileDataPromise,\n",
              "      response: {\n",
              "        action: 'continue',\n",
              "      }\n",
              "    };\n",
              "\n",
              "    // Use a chunked sending to avoid message size limits. See b/62115660.\n",
              "    let position = 0;\n",
              "    do {\n",
              "      const length = Math.min(fileData.byteLength - position, MAX_PAYLOAD_SIZE);\n",
              "      const chunk = new Uint8Array(fileData, position, length);\n",
              "      position += length;\n",
              "\n",
              "      const base64 = btoa(String.fromCharCode.apply(null, chunk));\n",
              "      yield {\n",
              "        response: {\n",
              "          action: 'append',\n",
              "          file: file.name,\n",
              "          data: base64,\n",
              "        },\n",
              "      };\n",
              "\n",
              "      let percentDone = fileData.byteLength === 0 ?\n",
              "          100 :\n",
              "          Math.round((position / fileData.byteLength) * 100);\n",
              "      percent.textContent = `${percentDone}% done`;\n",
              "\n",
              "    } while (position < fileData.byteLength);\n",
              "  }\n",
              "\n",
              "  // All done.\n",
              "  yield {\n",
              "    response: {\n",
              "      action: 'complete',\n",
              "    }\n",
              "  };\n",
              "}\n",
              "\n",
              "scope.google = scope.google || {};\n",
              "scope.google.colab = scope.google.colab || {};\n",
              "scope.google.colab._files = {\n",
              "  _uploadFiles,\n",
              "  _uploadFilesContinue,\n",
              "};\n",
              "})(self);\n",
              "</script> "
            ]
          },
          "metadata": {}
        },
        {
          "output_type": "stream",
          "name": "stdout",
          "text": [
            "Saving kaggle.json to kaggle.json\n",
            "mkdir: cannot create directory ‘/root/.kaggle/’: File exists\n",
            "Warning: Your Kaggle API key is readable by other users on this system! To fix this, you can run 'chmod 600 /root/.kaggle/kaggle.json'\n",
            "Downloading nlp-mental-health-conversations.zip to /content\n",
            " 68% 1.00M/1.48M [00:00<00:00, 1.43MB/s]\n",
            "100% 1.48M/1.48M [00:00<00:00, 1.95MB/s]\n",
            "Archive:  /content/nlp-mental-health-conversations.zip\n",
            "replace train.csv? [y]es, [n]o, [A]ll, [N]one, [r]ename: y\n",
            "  inflating: train.csv               \n"
          ]
        }
      ]
    },
    {
      "cell_type": "markdown",
      "source": [
        "## Load dataset"
      ],
      "metadata": {
        "id": "6BaomFZaS3Pa"
      }
    },
    {
      "cell_type": "code",
      "source": [
        "all_sents = pd.read_csv(\"/content/train.csv\")[\"Response\"].tolist()[:10]"
      ],
      "metadata": {
        "id": "O3uqa9P-NX78"
      },
      "execution_count": 20,
      "outputs": []
    },
    {
      "cell_type": "code",
      "source": [
        "PUNCTUATIONS = \". ? ' \\\" - [ ] { } ( ) ... : ;\"\n",
        "PUNCTUATIONS = PUNCTUATIONS.split(\" \")\n",
        "print(\"Number of punctuations:\", len(PUNCTUATIONS))"
      ],
      "metadata": {
        "colab": {
          "base_uri": "https://localhost:8080/"
        },
        "id": "qKt_l8ROK_0w",
        "outputId": "9e3788af-2408-4eac-f7d8-f905900413b4"
      },
      "execution_count": 21,
      "outputs": [
        {
          "output_type": "stream",
          "name": "stdout",
          "text": [
            "Number of punctuations: 14\n"
          ]
        }
      ]
    },
    {
      "cell_type": "markdown",
      "source": [
        "## Cleaning and pre-processing"
      ],
      "metadata": {
        "id": "6UkNY1ObS6IS"
      }
    },
    {
      "cell_type": "code",
      "source": [
        "def remove_punc(sent_in):\n",
        "  fin = \"\"\n",
        "  for i in sent_in:\n",
        "    if (i.isalnum()) or (i in PUNCTUATIONS+[\"<\", \">\", \" \"]):\n",
        "      fin += i\n",
        "  return fin\n",
        "def clean_text(all_sent):\n",
        "  \"\"\"\n",
        "    This functions cleans the given text by performing the following changes\n",
        "    - remove Nan\n",
        "    - replace \"\\xa0\" with \" \"\n",
        "    - replace \"\\n\", \"\\r\", '\\t\" with \" \"\n",
        "    - replace multiple spaces with single space\n",
        "    - lowercase\n",
        "    - tokenize the sentences\n",
        "    - <URL> for urls\n",
        "    - <NUM> for numbers\n",
        "    - <PHNUM> for phone numbers [NUM-NUM-NUM-NUM], [NUM-NUM-NUM]\n",
        "    - <DATE> for dates\n",
        "    - Replace 3+ consecutive periods with an ellipse.\n",
        "    - Ensure all punctutions have a space before and after it\n",
        "    - Remove all other special charectors\n",
        "  \"\"\"\n",
        "  all_sent = [sent for sent in all_sent if type(sent)==type(\"string\")]  # remove nan\n",
        "  fin = []\n",
        "  for sent in all_sent:\n",
        "    fin += nltk.tokenize.sent_tokenize(sent.replace('\\xa0', ' ').replace('\\n', ' ').replace('\\r', ' ').replace('\\t', ' ').lower())\n",
        "  fin = [re.sub(r'\\d+', \"<NUM>\", sent) for sent in fin]  # Numbers\n",
        "  # Ph. num\n",
        "  fin = [sent.replace(\"<NUM>-<NUM>-<NUM>-<NUM>\", \"<PHNUM>\") for sent in fin]\n",
        "  fin = [sent.replace(\"<NUM>-<NUM>-<NUM>\", \"<PHNUM>\") for sent in fin]\n",
        "  # Dates\n",
        "  fin = [sent.replace(\"<NUM>/<NUM>/<NUM>\", \"<DATE>\") for sent in fin]\n",
        "  fin = [re.sub(r'https?://\\S+|www\\.\\S+', \"<URL>\", sent) for sent in fin]  # URLs\n",
        "  fin = [re.sub(r'\\.{4,}', '...', sent) for sent in fin]  # Multiple periods\n",
        "  # space around punctuations\n",
        "  for pun in PUNCTUATIONS:\n",
        "    fin = [sent.replace(pun, \" \" + pun + \" \") for sent in fin]\n",
        "  fin = [re.sub(r' +', \" \", sent) for sent in fin]  # Remove multiple Spaces\n",
        "  # remove other special charectors\n",
        "  fin = [remove_punc(sent) for sent in fin]\n",
        "  return fin"
      ],
      "metadata": {
        "id": "SZ6IjzTiNYsW"
      },
      "execution_count": 22,
      "outputs": []
    },
    {
      "cell_type": "code",
      "source": [
        "def lemmatize_text(all_sent):\n",
        "    fin = []\n",
        "    lemmatizer = WordNetLemmatizer()\n",
        "    for sent in all_sent:\n",
        "      tokens = sent.split(\" \")\n",
        "      lemmatized_tokens = [lemmatizer.lemmatize(token) for token in tokens]\n",
        "      lemmatized_tokens  = [i for i in lemmatized_tokens if len(i)]\n",
        "      fin += [lemmatized_tokens]\n",
        "    fin = [i for i in fin if len(i)]\n",
        "    return fin"
      ],
      "metadata": {
        "id": "VRZurjWQNb_Z"
      },
      "execution_count": 23,
      "outputs": []
    },
    {
      "cell_type": "code",
      "source": [
        "def remove_all_punc(s_in):\n",
        "  fin = \"\"\n",
        "  for i in s_in:\n",
        "    if i.isalpha() or i==\" \":\n",
        "      fin += i\n",
        "  return fin"
      ],
      "metadata": {
        "id": "45BRc3GBOdOQ"
      },
      "execution_count": 24,
      "outputs": []
    },
    {
      "cell_type": "code",
      "source": [
        "all_sents = clean_text(all_sents)\n",
        "all_sents = lemmatize_text(all_sents)\n",
        "all_sents = [ \" \".join(i) for i in all_sents ]\n",
        "wo_punc = [remove_all_punc(i) for i in all_sents]"
      ],
      "metadata": {
        "id": "e8hrEXIfNexj"
      },
      "execution_count": 25,
      "outputs": []
    },
    {
      "cell_type": "markdown",
      "source": [
        "## Restoration"
      ],
      "metadata": {
        "id": "3kS9n14sTXly"
      }
    },
    {
      "cell_type": "code",
      "source": [
        "# Download and load the pre-trained BERT-based model\n",
        "model = PunctuationCapitalizationModel.from_pretrained(\"punctuation_en_bert\")\n",
        "\n",
        "# Add punctuation using the model\n",
        "restored_punc = model.add_punctuation_capitalization(wo_punc)\n",
        "restored_punc = [i.lower() for i in restored_punc]"
      ],
      "metadata": {
        "colab": {
          "base_uri": "https://localhost:8080/"
        },
        "id": "G1kCMcevK-Ol",
        "outputId": "f5176b31-dcda-4375-bb5b-ad6f4b3b1492"
      },
      "execution_count": 26,
      "outputs": [
        {
          "output_type": "stream",
          "name": "stderr",
          "text": [
            "100%|██████████| 2/2 [00:19<00:00,  9.96s/batch]\n"
          ]
        }
      ]
    },
    {
      "cell_type": "markdown",
      "source": [
        "## Score"
      ],
      "metadata": {
        "id": "DY1nwiTlTz1C"
      }
    },
    {
      "cell_type": "code",
      "source": [
        "def calculate_jaccard_similarity(original_sentence, restored_sentence):\n",
        "    original_tokens = set(word_tokenize(original_sentence))\n",
        "    restored_tokens = set(word_tokenize(restored_sentence))\n",
        "\n",
        "    # Calculate Jaccard similarity\n",
        "    intersection = len(original_tokens.intersection(restored_tokens))\n",
        "    union = len(original_tokens.union(restored_tokens))\n",
        "\n",
        "    jaccard_similarity = intersection / union if union != 0 else 0\n",
        "    return jaccard_similarity"
      ],
      "metadata": {
        "id": "bOaFh2LOOT-I"
      },
      "execution_count": 27,
      "outputs": []
    },
    {
      "cell_type": "code",
      "source": [
        "fin_score = sum( [calculate_jaccard_similarity(orig, restored) for orig, restored in zip(all_sents, restored_punc)] ) / len(all_sents)"
      ],
      "metadata": {
        "id": "64RmoRvkPGXw"
      },
      "execution_count": 28,
      "outputs": []
    },
    {
      "cell_type": "code",
      "source": [
        "print(\"Final score for pretrained-Nemo:\", fin_score)"
      ],
      "metadata": {
        "colab": {
          "base_uri": "https://localhost:8080/"
        },
        "id": "GC_CwsJARbtl",
        "outputId": "465f629d-160a-4846-db35-5f0304afd2cf"
      },
      "execution_count": 29,
      "outputs": [
        {
          "output_type": "stream",
          "name": "stdout",
          "text": [
            "Final score for pretrained-Nemo: 0.9537062875409791\n"
          ]
        }
      ]
    }
  ]
}